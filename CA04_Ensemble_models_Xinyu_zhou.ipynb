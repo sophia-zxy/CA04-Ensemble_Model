{
  "nbformat": 4,
  "nbformat_minor": 0,
  "metadata": {
    "colab": {
      "name": "CA04-Ensemble_models -Xinyu_zhou.ipynb",
      "provenance": [],
      "collapsed_sections": []
    },
    "kernelspec": {
      "name": "python3",
      "display_name": "Python 3"
    }
  },
  "cells": [
    {
      "cell_type": "markdown",
      "metadata": {
        "id": "heYAvqZ6f5cM"
      },
      "source": [
        "# **CA04 - Ensemble_models**\r\n",
        "Name: Xinyu Zhou\r\n",
        "\r\n",
        "Colab link: https://colab.research.google.com/drive/1eyvFyeRBvj_kBAOu6oaTm60n1EfoVQ2l?usp=sharing"
      ]
    },
    {
      "cell_type": "markdown",
      "metadata": {
        "id": "-pETilcOg9Df"
      },
      "source": [
        "# **1. Data Source and Contents**"
      ]
    },
    {
      "cell_type": "markdown",
      "metadata": {
        "id": "ogzk9UcOhVng"
      },
      "source": [
        "Same as CA03"
      ]
    },
    {
      "cell_type": "code",
      "metadata": {
        "id": "lqfjXxhBqdom"
      },
      "source": [
        "# Import pandas and numpy\r\n",
        "import pandas as pd\r\n",
        "import numpy as np\r\n",
        "\r\n",
        "# Read the CSV file\r\n",
        "df = pd.read_csv('census_data.csv',na_values='NA')"
      ],
      "execution_count": null,
      "outputs": []
    },
    {
      "cell_type": "markdown",
      "metadata": {
        "id": "9o29lSKIkE2-"
      },
      "source": [
        "# **2.  Finding Optimal Value of a key Hyper-parameter**\r\n",
        "\r\n",
        "For Ensemble Models, one of the key hyper-parameter is number of “estimators”.\r\n",
        "Following is an example of fining the optimal value of “Maximum Depth”. Review the following code snippet to understand how the optimal value of this hyper-parameter\r\n",
        "(Max Depth = 10) is found by plotting a graph\r\n",
        "\r\n",
        "\r\n"
      ]
    },
    {
      "cell_type": "code",
      "metadata": {
        "id": "OMGX26cMWLPr"
      },
      "source": [
        "from sklearn.tree import DecisionTreeClassifier\r\n",
        "import matplotlib.pyplot as plt\r\n",
        "from sklearn.metrics import accuracy_score"
      ],
      "execution_count": null,
      "outputs": []
    },
    {
      "cell_type": "code",
      "metadata": {
        "id": "2J520qJZrkDt"
      },
      "source": [
        "#Perform necessary data cleansing and transformation based on your observations from the data quality analysis\r\n",
        "#create a new column with corresponding 1 and 0 value for target column\r\n",
        "df['flagNumber']=df.flag.map({ 'train' : 1, 'test' : 0})\r\n",
        "#slice the dataset into train and test dataset by flag\r\n",
        "train= df[df['flag']=='train']\r\n",
        "test= df[df['flag']=='test']\r\n",
        "#slice the dataset into x and y dataset\r\n",
        "X_train = train.iloc[:, :-3].values\r\n",
        "X_test = test.iloc[:, :-3].values\r\n",
        "y_train = train.iloc[:, -2:-1].values\r\n",
        "y_test = test.iloc[:, -2:-1].values\r\n",
        "#Encoding the Independent Variable\r\n",
        "from sklearn.preprocessing import OneHotEncoder\r\n",
        "from sklearn.compose import make_column_transformer\r\n",
        "ct =make_column_transformer((OneHotEncoder(),slice(0,9)))\r\n",
        "X_train=ct.fit_transform(X_train)\r\n",
        "X_test=ct.fit_transform(X_test)"
      ],
      "execution_count": null,
      "outputs": []
    },
    {
      "cell_type": "code",
      "metadata": {
        "id": "VkS4gQYRpr2y"
      },
      "source": [
        "#accuracy = accuracy_score(y_test, y_pred) get the increasing curve\r\n",
        "#accuracy = np.mean(y_test == y_pred) get the decreasing curve"
      ],
      "execution_count": null,
      "outputs": []
    },
    {
      "cell_type": "code",
      "metadata": {
        "colab": {
          "base_uri": "https://localhost:8080/",
          "height": 282
        },
        "id": "5ManInEWV2CL",
        "outputId": "279884e1-0917-4e69-af97-f940335fa6d2"
      },
      "source": [
        "#the optimal value of “Maximum Depth”\r\n",
        "results = []\r\n",
        "max_depth_options = [2,4,6,8,10,12,14,16,18,20]\r\n",
        "for trees in max_depth_options:\r\n",
        "    model = DecisionTreeClassifier(max_depth=trees, random_state=101)\r\n",
        "    model.fit(X_train, y_train)\r\n",
        "    y_pred = model.predict(X_test)\r\n",
        "    accuracy = accuracy_score(y_test, y_pred)\r\n",
        "    results.append(accuracy)\r\n",
        "\r\n",
        "plt.figure(figsize=(8,4))\r\n",
        "pd.Series(results, max_depth_options).plot(color='darkred', marker='o')\r\n",
        "# from the plot, we can tell x=10 is the cutting off point, the curve starts decreasing after 10"
      ],
      "execution_count": null,
      "outputs": [
        {
          "output_type": "execute_result",
          "data": {
            "text/plain": [
              "<matplotlib.axes._subplots.AxesSubplot at 0x7f643b4d9190>"
            ]
          },
          "metadata": {
            "tags": []
          },
          "execution_count": 15
        },
        {
          "output_type": "display_data",
          "data": {
            "image/png": "[encoded data removed]",
            "text/plain": [
              "<Figure size 576x288 with 1 Axes>"
            ]
          },
          "metadata": {
            "tags": [],
            "needs_background": "light"
          }
        }
      ]
    },
    {
      "cell_type": "markdown",
      "metadata": {
        "id": "-oef_bcyr92D"
      },
      "source": [
        "# **3. Building a Random Forest Model**\r\n",
        "* Using Notebook, and the same data source from CA03, train a Random Forest Model.\r\n",
        "* Using similar approach of Section 2 above, plot a graph of Accuracy vs. n_estimator.\r\n",
        "* Use n_estimator values as [50,100,150,200,250,300,350,400,450,500]\r\n",
        "\r\n",
        "Answer the following question:\r\n",
        "1. Write your observations about the Classifier’s behavior with respect to the\r\n",
        "number of estimators\r\n",
        "\r\n",
        "The classifier's accuracy score is changing long with the number of estimators. In this graph, the accuracy is decreasing when estimator from 50 to 250, and arrives the lowest accuracy at n = 250. Then it starts increasing when n from 350 to 500.\r\n",
        "\r\n",
        "2. Is there an optimal value of the estimator within the given range?\r\n",
        "\r\n",
        "Yes, the estimator equals 50 or 500, our accuracy score reaches the highest value.\r\n"
      ]
    },
    {
      "cell_type": "code",
      "metadata": {
        "id": "deoPaazLq-Eo",
        "colab": {
          "base_uri": "https://localhost:8080/",
          "height": 638
        },
        "outputId": "cb21f4fa-4a94-4ea1-ca1f-e6b667316bcc"
      },
      "source": [
        "from sklearn.ensemble import RandomForestClassifier\r\n",
        "#the optimal value of “n_estimator”\r\n",
        "results = []\r\n",
        "estimator = [50,100,150,200,250,300,350,400,450,500]\r\n",
        "\r\n",
        "for trees in estimator:\r\n",
        "    model = RandomForestClassifier(n_estimators=trees, random_state=101)\r\n",
        "    model.fit(X_train, y_train)\r\n",
        "    y_pred = model.predict(X_test)\r\n",
        "    accuracy = accuracy_score(y_test, y_pred)\r\n",
        "    results.append(accuracy)\r\n",
        "\r\n",
        "plt.figure(figsize=(10,4))\r\n",
        "pd.Series(results, estimator).plot(color='darkred', marker='o')\r\n",
        "# n= 50 or 500, accuracy score is highest(round 0.84)"
      ],
      "execution_count": null,
      "outputs": [
        {
          "output_type": "stream",
          "text": [
            "/usr/local/lib/python3.7/dist-packages/ipykernel_launcher.py:8: DataConversionWarning: A column-vector y was passed when a 1d array was expected. Please change the shape of y to (n_samples,), for example using ravel().\n",
            "  \n",
            "/usr/local/lib/python3.7/dist-packages/ipykernel_launcher.py:8: DataConversionWarning: A column-vector y was passed when a 1d array was expected. Please change the shape of y to (n_samples,), for example using ravel().\n",
            "  \n",
            "/usr/local/lib/python3.7/dist-packages/ipykernel_launcher.py:8: DataConversionWarning: A column-vector y was passed when a 1d array was expected. Please change the shape of y to (n_samples,), for example using ravel().\n",
            "  \n",
            "/usr/local/lib/python3.7/dist-packages/ipykernel_launcher.py:8: DataConversionWarning: A column-vector y was passed when a 1d array was expected. Please change the shape of y to (n_samples,), for example using ravel().\n",
            "  \n",
            "/usr/local/lib/python3.7/dist-packages/ipykernel_launcher.py:8: DataConversionWarning: A column-vector y was passed when a 1d array was expected. Please change the shape of y to (n_samples,), for example using ravel().\n",
            "  \n",
            "/usr/local/lib/python3.7/dist-packages/ipykernel_launcher.py:8: DataConversionWarning: A column-vector y was passed when a 1d array was expected. Please change the shape of y to (n_samples,), for example using ravel().\n",
            "  \n",
            "/usr/local/lib/python3.7/dist-packages/ipykernel_launcher.py:8: DataConversionWarning: A column-vector y was passed when a 1d array was expected. Please change the shape of y to (n_samples,), for example using ravel().\n",
            "  \n",
            "/usr/local/lib/python3.7/dist-packages/ipykernel_launcher.py:8: DataConversionWarning: A column-vector y was passed when a 1d array was expected. Please change the shape of y to (n_samples,), for example using ravel().\n",
            "  \n",
            "/usr/local/lib/python3.7/dist-packages/ipykernel_launcher.py:8: DataConversionWarning: A column-vector y was passed when a 1d array was expected. Please change the shape of y to (n_samples,), for example using ravel().\n",
            "  \n",
            "/usr/local/lib/python3.7/dist-packages/ipykernel_launcher.py:8: DataConversionWarning: A column-vector y was passed when a 1d array was expected. Please change the shape of y to (n_samples,), for example using ravel().\n",
            "  \n"
          ],
          "name": "stderr"
        },
        {
          "output_type": "execute_result",
          "data": {
            "text/plain": [
              "<matplotlib.axes._subplots.AxesSubplot at 0x7f643b5ac990>"
            ]
          },
          "metadata": {
            "tags": []
          },
          "execution_count": 16
        },
        {
          "output_type": "display_data",
          "data": {
            "image/png": "[encoded data removed]",
            "text/plain": [
              "<Figure size 720x288 with 1 Axes>"
            ]
          },
          "metadata": {
            "tags": [],
            "needs_background": "light"
          }
        }
      ]
    },
    {
      "cell_type": "markdown",
      "metadata": {
        "id": "eeBUvEIRLJse"
      },
      "source": [
        " # **4.\tBuilding AdaBoost, Gradient Boost (classifier) and XGB Model**\r\n",
        " Repeat the process of Section 3 above for all three models here"
      ]
    },
    {
      "cell_type": "code",
      "metadata": {
        "id": "1aaDYlAdL3Wb",
        "colab": {
          "base_uri": "https://localhost:8080/",
          "height": 638
        },
        "outputId": "25822543-e116-44c4-f28d-a51f6fc9a92e"
      },
      "source": [
        "#AdaBoost\r\n",
        "from sklearn.ensemble import AdaBoostClassifier \r\n",
        "results = []\r\n",
        "estimator = [50,100,150,200,250,300,350,400,450,500]\r\n",
        "\r\n",
        "for trees in estimator:\r\n",
        "    classifier = AdaBoostClassifier(n_estimators=trees, random_state=101)\r\n",
        "    classifier.fit(X_train, y_train)\r\n",
        "    y_pred = classifier.predict(X_test)\r\n",
        "    accuracy = accuracy_score(y_test, y_pred)\r\n",
        "    results.append(accuracy)\r\n",
        "\r\n",
        "plt.figure(figsize=(10,4))\r\n",
        "pd.Series(results, estimator).plot(color='darkred', marker='o')\r\n",
        "# n= 50, accuracy score is highest(round 0.854)"
      ],
      "execution_count": null,
      "outputs": [
        {
          "output_type": "stream",
          "text": [
            "/usr/local/lib/python3.7/dist-packages/sklearn/utils/validation.py:760: DataConversionWarning: A column-vector y was passed when a 1d array was expected. Please change the shape of y to (n_samples, ), for example using ravel().\n",
            "  y = column_or_1d(y, warn=True)\n",
            "/usr/local/lib/python3.7/dist-packages/sklearn/utils/validation.py:760: DataConversionWarning: A column-vector y was passed when a 1d array was expected. Please change the shape of y to (n_samples, ), for example using ravel().\n",
            "  y = column_or_1d(y, warn=True)\n",
            "/usr/local/lib/python3.7/dist-packages/sklearn/utils/validation.py:760: DataConversionWarning: A column-vector y was passed when a 1d array was expected. Please change the shape of y to (n_samples, ), for example using ravel().\n",
            "  y = column_or_1d(y, warn=True)\n",
            "/usr/local/lib/python3.7/dist-packages/sklearn/utils/validation.py:760: DataConversionWarning: A column-vector y was passed when a 1d array was expected. Please change the shape of y to (n_samples, ), for example using ravel().\n",
            "  y = column_or_1d(y, warn=True)\n",
            "/usr/local/lib/python3.7/dist-packages/sklearn/utils/validation.py:760: DataConversionWarning: A column-vector y was passed when a 1d array was expected. Please change the shape of y to (n_samples, ), for example using ravel().\n",
            "  y = column_or_1d(y, warn=True)\n",
            "/usr/local/lib/python3.7/dist-packages/sklearn/utils/validation.py:760: DataConversionWarning: A column-vector y was passed when a 1d array was expected. Please change the shape of y to (n_samples, ), for example using ravel().\n",
            "  y = column_or_1d(y, warn=True)\n",
            "/usr/local/lib/python3.7/dist-packages/sklearn/utils/validation.py:760: DataConversionWarning: A column-vector y was passed when a 1d array was expected. Please change the shape of y to (n_samples, ), for example using ravel().\n",
            "  y = column_or_1d(y, warn=True)\n",
            "/usr/local/lib/python3.7/dist-packages/sklearn/utils/validation.py:760: DataConversionWarning: A column-vector y was passed when a 1d array was expected. Please change the shape of y to (n_samples, ), for example using ravel().\n",
            "  y = column_or_1d(y, warn=True)\n",
            "/usr/local/lib/python3.7/dist-packages/sklearn/utils/validation.py:760: DataConversionWarning: A column-vector y was passed when a 1d array was expected. Please change the shape of y to (n_samples, ), for example using ravel().\n",
            "  y = column_or_1d(y, warn=True)\n",
            "/usr/local/lib/python3.7/dist-packages/sklearn/utils/validation.py:760: DataConversionWarning: A column-vector y was passed when a 1d array was expected. Please change the shape of y to (n_samples, ), for example using ravel().\n",
            "  y = column_or_1d(y, warn=True)\n"
          ],
          "name": "stderr"
        },
        {
          "output_type": "execute_result",
          "data": {
            "text/plain": [
              "<matplotlib.axes._subplots.AxesSubplot at 0x7f643ae76190>"
            ]
          },
          "metadata": {
            "tags": []
          },
          "execution_count": 17
        },
        {
          "output_type": "display_data",
          "data": {
            "image/png": "[encoded data removed]",
            "text/plain": [
              "<Figure size 720x288 with 1 Axes>"
            ]
          },
          "metadata": {
            "tags": [],
            "needs_background": "light"
          }
        }
      ]
    },
    {
      "cell_type": "code",
      "metadata": {
        "id": "xqcQetw3C9Hx",
        "colab": {
          "base_uri": "https://localhost:8080/",
          "height": 638
        },
        "outputId": "5da6d1e4-0955-4505-f420-bcf4a32a321a"
      },
      "source": [
        "#Gradient Boost\r\n",
        "from sklearn.ensemble import GradientBoostingClassifier\r\n",
        "results = []\r\n",
        "estimator = [50,100,150,200,250,300,350,400,450,500]\r\n",
        "\r\n",
        "for trees in estimator:\r\n",
        "    classifier =  GradientBoostingClassifier(n_estimators=trees, random_state=101)\r\n",
        "    classifier.fit(X_train, y_train)\r\n",
        "    y_pred = classifier.predict(X_test)\r\n",
        "    accuracy = accuracy_score(y_test, y_pred)\r\n",
        "    results.append(accuracy)\r\n",
        "\r\n",
        "plt.figure(figsize=(10,4))\r\n",
        "pd.Series(results, estimator).plot(color='darkred', marker='o')\r\n",
        "# n= 50, accuracy score is highest(round 0.8475)"
      ],
      "execution_count": null,
      "outputs": [
        {
          "output_type": "stream",
          "text": [
            "/usr/local/lib/python3.7/dist-packages/sklearn/ensemble/_gb.py:1454: DataConversionWarning: A column-vector y was passed when a 1d array was expected. Please change the shape of y to (n_samples, ), for example using ravel().\n",
            "  y = column_or_1d(y, warn=True)\n",
            "/usr/local/lib/python3.7/dist-packages/sklearn/ensemble/_gb.py:1454: DataConversionWarning: A column-vector y was passed when a 1d array was expected. Please change the shape of y to (n_samples, ), for example using ravel().\n",
            "  y = column_or_1d(y, warn=True)\n",
            "/usr/local/lib/python3.7/dist-packages/sklearn/ensemble/_gb.py:1454: DataConversionWarning: A column-vector y was passed when a 1d array was expected. Please change the shape of y to (n_samples, ), for example using ravel().\n",
            "  y = column_or_1d(y, warn=True)\n",
            "/usr/local/lib/python3.7/dist-packages/sklearn/ensemble/_gb.py:1454: DataConversionWarning: A column-vector y was passed when a 1d array was expected. Please change the shape of y to (n_samples, ), for example using ravel().\n",
            "  y = column_or_1d(y, warn=True)\n",
            "/usr/local/lib/python3.7/dist-packages/sklearn/ensemble/_gb.py:1454: DataConversionWarning: A column-vector y was passed when a 1d array was expected. Please change the shape of y to (n_samples, ), for example using ravel().\n",
            "  y = column_or_1d(y, warn=True)\n",
            "/usr/local/lib/python3.7/dist-packages/sklearn/ensemble/_gb.py:1454: DataConversionWarning: A column-vector y was passed when a 1d array was expected. Please change the shape of y to (n_samples, ), for example using ravel().\n",
            "  y = column_or_1d(y, warn=True)\n",
            "/usr/local/lib/python3.7/dist-packages/sklearn/ensemble/_gb.py:1454: DataConversionWarning: A column-vector y was passed when a 1d array was expected. Please change the shape of y to (n_samples, ), for example using ravel().\n",
            "  y = column_or_1d(y, warn=True)\n",
            "/usr/local/lib/python3.7/dist-packages/sklearn/ensemble/_gb.py:1454: DataConversionWarning: A column-vector y was passed when a 1d array was expected. Please change the shape of y to (n_samples, ), for example using ravel().\n",
            "  y = column_or_1d(y, warn=True)\n",
            "/usr/local/lib/python3.7/dist-packages/sklearn/ensemble/_gb.py:1454: DataConversionWarning: A column-vector y was passed when a 1d array was expected. Please change the shape of y to (n_samples, ), for example using ravel().\n",
            "  y = column_or_1d(y, warn=True)\n",
            "/usr/local/lib/python3.7/dist-packages/sklearn/ensemble/_gb.py:1454: DataConversionWarning: A column-vector y was passed when a 1d array was expected. Please change the shape of y to (n_samples, ), for example using ravel().\n",
            "  y = column_or_1d(y, warn=True)\n"
          ],
          "name": "stderr"
        },
        {
          "output_type": "execute_result",
          "data": {
            "text/plain": [
              "<matplotlib.axes._subplots.AxesSubplot at 0x7f643b5b1d90>"
            ]
          },
          "metadata": {
            "tags": []
          },
          "execution_count": 10
        },
        {
          "output_type": "display_data",
          "data": {
            "image/png": "[encoded data removed]",
            "text/plain": [
              "<Figure size 720x288 with 1 Axes>"
            ]
          },
          "metadata": {
            "tags": [],
            "needs_background": "light"
          }
        }
      ]
    },
    {
      "cell_type": "code",
      "metadata": {
        "id": "hRbMCljKC_4q"
      },
      "source": [
        "#XGB Model\r\n",
        "from xgboost import XGBClassifier\r\n",
        "results = []\r\n",
        "estimator = [50,100,150,200,250,300,350,400,450,500]\r\n",
        "\r\n",
        "for trees in estimator:\r\n",
        "    classifier =  XGBClassifier(n_estimators=trees, random_state=101)\r\n",
        "    classifier.fit(X_train, y_train)\r\n",
        "    y_pred = classifier.predict(X_test)\r\n",
        "    accuracy = accuracy_score(y_test, y_pred)\r\n",
        "    results.append(accuracy)\r\n",
        "\r\n",
        "plt.figure(figsize=(10,4))\r\n",
        "pd.Series(results, estimator).plot(color='darkred', marker='o')\r\n",
        "# n= 100, accuracy score is highest(round 0.8475)"
      ],
      "execution_count": null,
      "outputs": []
    },
    {
      "cell_type": "markdown",
      "metadata": {
        "id": "iBbHIrI_NjPY"
      },
      "source": [
        " # **5. Compare Performance**\r\n",
        "Keep all common Hyper-parameters same for four models (Random Forest, AdaBoost,\r\n",
        "Gradient Boost, XGB), run them again and create a performance comparison table\r\n",
        "within your code and print the same as follows:\r\n",
        "\r\n",
        "Also, print the values of all COMMON Hyper-parameters below this table (from code)\r\n"
      ]
    },
    {
      "cell_type": "code",
      "metadata": {
        "colab": {
          "base_uri": "https://localhost:8080/",
          "height": 290
        },
        "id": "eRdz8okf1N1j",
        "outputId": "f57fee40-f4c9-4aee-9d6a-5f808be69bea"
      },
      "source": [
        "#Random Forest, AdaBoost, Gradient Boost, XGB\r\n",
        "from sklearn.metrics import roc_auc_score\r\n",
        "#Random Forest\r\n",
        "Random_Forest = DecisionTreeClassifier(max_depth=10, random_state=101)\r\n",
        "Random_Forest.fit(X_train, y_train)\r\n",
        "y_pred1 = Random_Forest.predict(X_test)\r\n",
        "accuracy1 = accuracy_score(y_test, y_pred1)\r\n",
        "auc1 = roc_auc_score(y_test, y_pred1)\r\n",
        "#AdaBoost\r\n",
        "adaBoost = AdaBoostClassifier(n_estimators=50, random_state=101)\r\n",
        "adaBoost.fit(X_train, y_train)\r\n",
        "y_pred2 = adaBoost.predict(X_test)\r\n",
        "accuracy2 = accuracy_score(y_test, y_pred2)\r\n",
        "auc2 = roc_auc_score(y_test, y_pred2)\r\n",
        "#Gradient Boost\r\n",
        "gBoost = GradientBoostingClassifier(n_estimators=50, random_state=101)\r\n",
        "gBoost.fit(X_train, y_train)\r\n",
        "y_pred3 = gBoost.predict(X_test)\r\n",
        "accuracy3 = accuracy_score(y_test, y_pred3)\r\n",
        "auc3 = roc_auc_score(y_test, y_pred3)\r\n",
        "#XGB\r\n",
        "xgbBoost = XGBClassifier(n_estimators=100, random_state=101)\r\n",
        "xgbBoost.fit(X_train, y_train)\r\n",
        "y_pred4 = xgbBoost.predict(X_test)\r\n",
        "accuracy4 = accuracy_score(y_test, y_pred4)\r\n",
        "auc4 = roc_auc_score(y_test, y_pred4)\r\n",
        "# dateframe\r\n",
        "df=pd.DataFrame({\"Random Forest\":[accuracy1 , auc1,'10'], \r\n",
        "                 \"AdaBoost\":[accuracy2 , auc2,'50'],\r\n",
        "                 \"Gradient Boost\":[accuracy3 , auc3,'50'],\r\n",
        "                 \"XGB\":[accuracy4 , auc4,'100']}) \r\n",
        "df.index = ['Accuracy', 'AUC','max_depth/ n_estimators'] \r\n",
        "df\r\n",
        "#print the values of all COMMON Hyper-parameters below this table (from code)\r\n",
        "\r\n"
      ],
      "execution_count": null,
      "outputs": [
        {
          "output_type": "stream",
          "text": [
            "/usr/local/lib/python3.7/dist-packages/sklearn/utils/validation.py:760: DataConversionWarning: A column-vector y was passed when a 1d array was expected. Please change the shape of y to (n_samples, ), for example using ravel().\n",
            "  y = column_or_1d(y, warn=True)\n",
            "/usr/local/lib/python3.7/dist-packages/sklearn/ensemble/_gb.py:1454: DataConversionWarning: A column-vector y was passed when a 1d array was expected. Please change the shape of y to (n_samples, ), for example using ravel().\n",
            "  y = column_or_1d(y, warn=True)\n",
            "/usr/local/lib/python3.7/dist-packages/sklearn/preprocessing/_label.py:235: DataConversionWarning: A column-vector y was passed when a 1d array was expected. Please change the shape of y to (n_samples, ), for example using ravel().\n",
            "  y = column_or_1d(y, warn=True)\n",
            "/usr/local/lib/python3.7/dist-packages/sklearn/preprocessing/_label.py:268: DataConversionWarning: A column-vector y was passed when a 1d array was expected. Please change the shape of y to (n_samples, ), for example using ravel().\n",
            "  y = column_or_1d(y, warn=True)\n"
          ],
          "name": "stderr"
        },
        {
          "output_type": "execute_result",
          "data": {
            "text/html": [
              "<div>\n",
              "<style scoped>\n",
              "    .dataframe tbody tr th:only-of-type {\n",
              "        vertical-align: middle;\n",
              "    }\n",
              "\n",
              "    .dataframe tbody tr th {\n",
              "        vertical-align: top;\n",
              "    }\n",
              "\n",
              "    .dataframe thead th {\n",
              "        text-align: right;\n",
              "    }\n",
              "</style>\n",
              "<table border=\"1\" class=\"dataframe\">\n",
              "  <thead>\n",
              "    <tr style=\"text-align: right;\">\n",
              "      <th></th>\n",
              "      <th>Random Forest</th>\n",
              "      <th>AdaBoost</th>\n",
              "      <th>Gradient Boost</th>\n",
              "      <th>XGB</th>\n",
              "    </tr>\n",
              "  </thead>\n",
              "  <tbody>\n",
              "    <tr>\n",
              "      <th>Accuracy</th>\n",
              "      <td>0.841226</td>\n",
              "      <td>0.845341</td>\n",
              "      <td>0.847245</td>\n",
              "      <td>0.847368</td>\n",
              "    </tr>\n",
              "    <tr>\n",
              "      <th>AUC</th>\n",
              "      <td>0.748614</td>\n",
              "      <td>0.748884</td>\n",
              "      <td>0.746269</td>\n",
              "      <td>0.754072</td>\n",
              "    </tr>\n",
              "    <tr>\n",
              "      <th>max_depth/n_estimators</th>\n",
              "      <td>10</td>\n",
              "      <td>50</td>\n",
              "      <td>50</td>\n",
              "      <td>100</td>\n",
              "    </tr>\n",
              "  </tbody>\n",
              "</table>\n",
              "</div>"
            ],
            "text/plain": [
              "                       Random Forest  AdaBoost Gradient Boost       XGB\n",
              "Accuracy                    0.841226  0.845341       0.847245  0.847368\n",
              "AUC                         0.748614  0.748884       0.746269  0.754072\n",
              "max_depth/n_estimators            10        50             50       100"
            ]
          },
          "metadata": {
            "tags": []
          },
          "execution_count": 8
        }
      ]
    }
  ]
}